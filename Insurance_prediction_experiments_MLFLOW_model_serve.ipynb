{
 "cells": [
  {
   "cell_type": "code",
   "execution_count": 1,
   "id": "77d74c83-3f43-40cf-be9f-58dd6991432f",
   "metadata": {},
   "outputs": [],
   "source": [
    "import os\n",
    "os.environ['MLFLOW_TRACKING_URI']='file:///C:/Mlflow reg'"
   ]
  },
  {
   "cell_type": "code",
   "execution_count": 2,
   "id": "2ad65998-26b3-4503-a31d-fabaef56a576",
   "metadata": {},
   "outputs": [
    {
     "name": "stdout",
     "output_type": "stream",
     "text": [
      "                             run_id       experiment_id    status  \\\n",
      "0  e9160010831b421c8ccf200b64d5ed3e  811338310047614942  FINISHED   \n",
      "1  b88dfe3252ec4f56923c288387886135  811338310047614942  FINISHED   \n",
      "2  517806b2c5474ff6b3cd718bbf2f0f77  811338310047614942  FINISHED   \n",
      "\n",
      "                                        artifact_uri  \\\n",
      "0  file:///C:/Mlflow reg/811338310047614942/e9160...   \n",
      "1  file:///C:/Mlflow reg/811338310047614942/b88df...   \n",
      "2  file:///C:/Mlflow reg/811338310047614942/51780...   \n",
      "\n",
      "                        start_time                         end_time  \\\n",
      "0 2024-05-23 05:34:39.509000+00:00 2024-05-23 05:35:15.782000+00:00   \n",
      "1 2024-05-17 13:27:02.452000+00:00 2024-05-17 13:27:34.003000+00:00   \n",
      "2 2024-05-17 13:22:10.771000+00:00 2024-05-17 13:22:45.675000+00:00   \n",
      "\n",
      "   metrics.gbm_training_score  metrics.rf_training_score  \\\n",
      "0                    0.749686                   0.786344   \n",
      "1                    0.750254                   0.785977   \n",
      "2                    0.749500                   0.786513   \n",
      "\n",
      "  params.gbm_learning_rate params.gbm_minimum_samples_split  \\\n",
      "0                     0.01                                5   \n",
      "1                     0.01                                5   \n",
      "2                     0.01                                5   \n",
      "\n",
      "  params.gbm_max_depth params.rf_max_depth params.gbm_n_estimators  \\\n",
      "0                    6                   6                    3000   \n",
      "1                    6                   6                    3000   \n",
      "2                    6                   6                    3000   \n",
      "\n",
      "  params.n_estimators                            tags.mlflow.source.name  \\\n",
      "0                5000  C:\\Users\\SOUMYA RANJAN DAS\\anaconda3\\Lib\\site-...   \n",
      "1                5000  C:\\Users\\SOUMYA RANJAN DAS\\anaconda3\\Lib\\site-...   \n",
      "2                5000  C:\\Users\\SOUMYA RANJAN DAS\\anaconda3\\Lib\\site-...   \n",
      "\n",
      "    tags.mlflow.user                      tags.mlflow.log-model.history  \\\n",
      "0  SOUMYA RANJAN DAS  [{\"run_id\": \"e9160010831b421c8ccf200b64d5ed3e\"...   \n",
      "1  SOUMYA RANJAN DAS  [{\"run_id\": \"b88dfe3252ec4f56923c288387886135\"...   \n",
      "2  SOUMYA RANJAN DAS  [{\"run_id\": \"517806b2c5474ff6b3cd718bbf2f0f77\"...   \n",
      "\n",
      "  tags.mlflow.source.type tags.mlflow.runName  \n",
      "0                   LOCAL  abrasive-shoat-831  \n",
      "1                   LOCAL   tasteful-goat-420  \n",
      "2                   LOCAL      upset-shad-553  \n"
     ]
    }
   ],
   "source": [
    "import mlflow\n",
    "\n",
    "all_runs = mlflow.search_runs(search_all_experiments=True)\n",
    "print(all_runs)"
   ]
  },
  {
   "cell_type": "code",
   "execution_count": null,
   "id": "ed1b1b05-1422-4a5a-a72f-404d4a24813e",
   "metadata": {},
   "outputs": [],
   "source": [
    "!mlflow models serve -p 8002 -m runs:/e9160010831b421c8ccf200b64d5ed3e/random-forest-model  --no-conda"
   ]
  },
  {
   "cell_type": "code",
   "execution_count": null,
   "id": "78de4768-1282-42d1-8770-45e529e49743",
   "metadata": {},
   "outputs": [],
   "source": []
  }
 ],
 "metadata": {
  "kernelspec": {
   "display_name": "Python 3 (ipykernel)",
   "language": "python",
   "name": "python3"
  },
  "language_info": {
   "codemirror_mode": {
    "name": "ipython",
    "version": 3
   },
   "file_extension": ".py",
   "mimetype": "text/x-python",
   "name": "python",
   "nbconvert_exporter": "python",
   "pygments_lexer": "ipython3",
   "version": "3.11.5"
  }
 },
 "nbformat": 4,
 "nbformat_minor": 5
}
