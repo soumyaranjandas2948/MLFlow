{
 "cells": [
  {
   "cell_type": "markdown",
   "metadata": {
    "id": "eiCJQdFcc20s"
   },
   "source": [
    "# Importing libraries"
   ]
  },
  {
   "cell_type": "code",
   "execution_count": 1,
   "metadata": {
    "id": "0AVmemWBbkhY"
   },
   "outputs": [],
   "source": [
    "import pandas as pd\n",
    "import seaborn as sns\n",
    "import matplotlib.pyplot as plt\n",
    "import numpy as np\n",
    "#set figure size\n",
    "plt.rcParams[\"figure.figsize\"] = [8,5]\n",
    "#sklearn\n",
    "from sklearn.model_selection import train_test_split\n",
    "from sklearn.linear_model import LinearRegression\n",
    "from sklearn.metrics import mean_squared_error"
   ]
  },
  {
   "cell_type": "markdown",
   "metadata": {
    "id": "GWUk-btN127R"
   },
   "source": [
    "# Read Data"
   ]
  },
  {
   "cell_type": "code",
   "execution_count": 2,
   "metadata": {
    "id": "e1kUJb66dGUe"
   },
   "outputs": [],
   "source": [
    "df = pd.read_csv(r\"C:\\Users\\SOUMYA RANJAN DAS\\Downloads\\insurance.csv\")"
   ]
  },
  {
   "cell_type": "code",
   "execution_count": 3,
   "metadata": {
    "colab": {
     "base_uri": "https://localhost:8080/",
     "height": 206
    },
    "id": "mu-YE8fK2fuu",
    "outputId": "08ea813a-7251-4090-c6f8-d7cdc6e2e8e8"
   },
   "outputs": [
    {
     "data": {
      "text/html": [
       "<div>\n",
       "<style scoped>\n",
       "    .dataframe tbody tr th:only-of-type {\n",
       "        vertical-align: middle;\n",
       "    }\n",
       "\n",
       "    .dataframe tbody tr th {\n",
       "        vertical-align: top;\n",
       "    }\n",
       "\n",
       "    .dataframe thead th {\n",
       "        text-align: right;\n",
       "    }\n",
       "</style>\n",
       "<table border=\"1\" class=\"dataframe\">\n",
       "  <thead>\n",
       "    <tr style=\"text-align: right;\">\n",
       "      <th></th>\n",
       "      <th>age</th>\n",
       "      <th>sex</th>\n",
       "      <th>bmi</th>\n",
       "      <th>children</th>\n",
       "      <th>smoker</th>\n",
       "      <th>region</th>\n",
       "      <th>charges</th>\n",
       "    </tr>\n",
       "  </thead>\n",
       "  <tbody>\n",
       "    <tr>\n",
       "      <th>0</th>\n",
       "      <td>19</td>\n",
       "      <td>female</td>\n",
       "      <td>27.900</td>\n",
       "      <td>0</td>\n",
       "      <td>yes</td>\n",
       "      <td>southwest</td>\n",
       "      <td>16884.92400</td>\n",
       "    </tr>\n",
       "    <tr>\n",
       "      <th>1</th>\n",
       "      <td>18</td>\n",
       "      <td>male</td>\n",
       "      <td>33.770</td>\n",
       "      <td>1</td>\n",
       "      <td>no</td>\n",
       "      <td>southeast</td>\n",
       "      <td>1725.55230</td>\n",
       "    </tr>\n",
       "    <tr>\n",
       "      <th>2</th>\n",
       "      <td>28</td>\n",
       "      <td>male</td>\n",
       "      <td>33.000</td>\n",
       "      <td>3</td>\n",
       "      <td>no</td>\n",
       "      <td>southeast</td>\n",
       "      <td>4449.46200</td>\n",
       "    </tr>\n",
       "    <tr>\n",
       "      <th>3</th>\n",
       "      <td>33</td>\n",
       "      <td>male</td>\n",
       "      <td>22.705</td>\n",
       "      <td>0</td>\n",
       "      <td>no</td>\n",
       "      <td>northwest</td>\n",
       "      <td>21984.47061</td>\n",
       "    </tr>\n",
       "    <tr>\n",
       "      <th>4</th>\n",
       "      <td>32</td>\n",
       "      <td>male</td>\n",
       "      <td>28.880</td>\n",
       "      <td>0</td>\n",
       "      <td>no</td>\n",
       "      <td>northwest</td>\n",
       "      <td>3866.85520</td>\n",
       "    </tr>\n",
       "  </tbody>\n",
       "</table>\n",
       "</div>"
      ],
      "text/plain": [
       "   age     sex     bmi  children smoker     region      charges\n",
       "0   19  female  27.900         0    yes  southwest  16884.92400\n",
       "1   18    male  33.770         1     no  southeast   1725.55230\n",
       "2   28    male  33.000         3     no  southeast   4449.46200\n",
       "3   33    male  22.705         0     no  northwest  21984.47061\n",
       "4   32    male  28.880         0     no  northwest   3866.85520"
      ]
     },
     "execution_count": 3,
     "metadata": {},
     "output_type": "execute_result"
    }
   ],
   "source": [
    "df.head()"
   ]
  },
  {
   "cell_type": "markdown",
   "metadata": {
    "id": "9SEAkonbUCKC"
   },
   "source": [
    "# Shape of Data"
   ]
  },
  {
   "cell_type": "code",
   "execution_count": 4,
   "metadata": {
    "colab": {
     "base_uri": "https://localhost:8080/"
    },
    "id": "qPoffqQP2oFh",
    "outputId": "214d0e63-83b5-4f7f-863d-eac790f3ccfd"
   },
   "outputs": [
    {
     "data": {
      "text/plain": [
       "(1338, 7)"
      ]
     },
     "execution_count": 4,
     "metadata": {},
     "output_type": "execute_result"
    }
   ],
   "source": [
    "df.shape"
   ]
  },
  {
   "cell_type": "markdown",
   "metadata": {
    "id": "Tm0IN-2UURlc"
   },
   "source": [
    "# Basic EDA"
   ]
  },
  {
   "cell_type": "markdown",
   "metadata": {
    "id": "JTc3io-7255n"
   },
   "source": [
    "# EDA with bmi and Charges"
   ]
  },
  {
   "cell_type": "code",
   "execution_count": 5,
   "metadata": {
    "colab": {
     "base_uri": "https://localhost:8080/",
     "height": 546
    },
    "id": "X6Ttdvpv2rP3",
    "outputId": "7a75f907-7dc7-476c-fdc6-3ac95d9874b5"
   },
   "outputs": [
    {
     "name": "stderr",
     "output_type": "stream",
     "text": [
      "C:\\Users\\SOUMYA RANJAN DAS\\anaconda3\\Lib\\site-packages\\seaborn\\axisgrid.py:118: UserWarning: The figure layout has changed to tight\n",
      "  self._figure.tight_layout(*args, **kwargs)\n"
     ]
    },
    {
     "data": {
      "text/plain": [
       "Text(0.5, 1.0, 'BMI VS CHARGES')"
      ]
     },
     "execution_count": 5,
     "metadata": {},
     "output_type": "execute_result"
    },
    {
     "data": {
      "image/png": "[encoded data removed]",
      "text/plain": [
       "<Figure size 500x500 with 1 Axes>"
      ]
     },
     "metadata": {},
     "output_type": "display_data"
    }
   ],
   "source": [
    "sns.lmplot(x = 'bmi',y = 'charges',data = df)\n",
    "plt.xlabel(\"BMI\")\n",
    "plt.ylabel(\"CHARGES\")\n",
    "plt.title(\"BMI VS CHARGES\")"
   ]
  },
  {
   "cell_type": "markdown",
   "metadata": {
    "id": "EqWOneHrEPCK"
   },
   "source": [
    "# Age vs charges"
   ]
  },
  {
   "cell_type": "code",
   "execution_count": 6,
   "metadata": {
    "colab": {
     "base_uri": "https://localhost:8080/",
     "height": 523
    },
    "id": "gBQtachJEbFS",
    "outputId": "4eb1cc1b-0999-4292-ce0d-162fa7ea0af8"
   },
   "outputs": [
    {
     "name": "stderr",
     "output_type": "stream",
     "text": [
      "C:\\Users\\SOUMYA RANJAN DAS\\anaconda3\\Lib\\site-packages\\seaborn\\axisgrid.py:118: UserWarning: The figure layout has changed to tight\n",
      "  self._figure.tight_layout(*args, **kwargs)\n"
     ]
    },
    {
     "data": {
      "text/plain": [
       "<seaborn.axisgrid.FacetGrid at 0x220a8618850>"
      ]
     },
     "execution_count": 6,
     "metadata": {},
     "output_type": "execute_result"
    },
    {
     "data": {
      "image/png": "[encoded data removed]",
      "text/plain": [
       "<Figure size 500x500 with 1 Axes>"
      ]
     },
     "metadata": {},
     "output_type": "display_data"
    }
   ],
   "source": [
    "sns.lmplot(x = \"age\", y = \"charges\",data = df)"
   ]
  },
  {
   "cell_type": "markdown",
   "metadata": {
    "id": "PVq_vauVFoGl"
   },
   "source": [
    "# sex vs charges"
   ]
  },
  {
   "cell_type": "code",
   "execution_count": null,
   "metadata": {
    "id": "XEVPWrLyF1vy"
   },
   "outputs": [],
   "source": []
  },
  {
   "cell_type": "code",
   "execution_count": 7,
   "metadata": {
    "colab": {
     "base_uri": "https://localhost:8080/",
     "height": 300
    },
    "id": "MrKuB8GD6uFu",
    "outputId": "abd03d75-d82d-49b0-bd50-e2628957fc0b"
   },
   "outputs": [
    {
     "data": {
      "text/html": [
       "<div>\n",
       "<style scoped>\n",
       "    .dataframe tbody tr th:only-of-type {\n",
       "        vertical-align: middle;\n",
       "    }\n",
       "\n",
       "    .dataframe tbody tr th {\n",
       "        vertical-align: top;\n",
       "    }\n",
       "\n",
       "    .dataframe thead th {\n",
       "        text-align: right;\n",
       "    }\n",
       "</style>\n",
       "<table border=\"1\" class=\"dataframe\">\n",
       "  <thead>\n",
       "    <tr style=\"text-align: right;\">\n",
       "      <th></th>\n",
       "      <th>age</th>\n",
       "      <th>bmi</th>\n",
       "      <th>children</th>\n",
       "      <th>charges</th>\n",
       "    </tr>\n",
       "  </thead>\n",
       "  <tbody>\n",
       "    <tr>\n",
       "      <th>count</th>\n",
       "      <td>1338.000000</td>\n",
       "      <td>1338.000000</td>\n",
       "      <td>1338.000000</td>\n",
       "      <td>1338.000000</td>\n",
       "    </tr>\n",
       "    <tr>\n",
       "      <th>mean</th>\n",
       "      <td>39.207025</td>\n",
       "      <td>30.663397</td>\n",
       "      <td>1.094918</td>\n",
       "      <td>13270.422265</td>\n",
       "    </tr>\n",
       "    <tr>\n",
       "      <th>std</th>\n",
       "      <td>14.049960</td>\n",
       "      <td>6.098187</td>\n",
       "      <td>1.205493</td>\n",
       "      <td>12110.011237</td>\n",
       "    </tr>\n",
       "    <tr>\n",
       "      <th>min</th>\n",
       "      <td>18.000000</td>\n",
       "      <td>15.960000</td>\n",
       "      <td>0.000000</td>\n",
       "      <td>1121.873900</td>\n",
       "    </tr>\n",
       "    <tr>\n",
       "      <th>25%</th>\n",
       "      <td>27.000000</td>\n",
       "      <td>26.296250</td>\n",
       "      <td>0.000000</td>\n",
       "      <td>4740.287150</td>\n",
       "    </tr>\n",
       "    <tr>\n",
       "      <th>50%</th>\n",
       "      <td>39.000000</td>\n",
       "      <td>30.400000</td>\n",
       "      <td>1.000000</td>\n",
       "      <td>9382.033000</td>\n",
       "    </tr>\n",
       "    <tr>\n",
       "      <th>75%</th>\n",
       "      <td>51.000000</td>\n",
       "      <td>34.693750</td>\n",
       "      <td>2.000000</td>\n",
       "      <td>16639.912515</td>\n",
       "    </tr>\n",
       "    <tr>\n",
       "      <th>max</th>\n",
       "      <td>64.000000</td>\n",
       "      <td>53.130000</td>\n",
       "      <td>5.000000</td>\n",
       "      <td>63770.428010</td>\n",
       "    </tr>\n",
       "  </tbody>\n",
       "</table>\n",
       "</div>"
      ],
      "text/plain": [
       "               age          bmi     children       charges\n",
       "count  1338.000000  1338.000000  1338.000000   1338.000000\n",
       "mean     39.207025    30.663397     1.094918  13270.422265\n",
       "std      14.049960     6.098187     1.205493  12110.011237\n",
       "min      18.000000    15.960000     0.000000   1121.873900\n",
       "25%      27.000000    26.296250     0.000000   4740.287150\n",
       "50%      39.000000    30.400000     1.000000   9382.033000\n",
       "75%      51.000000    34.693750     2.000000  16639.912515\n",
       "max      64.000000    53.130000     5.000000  63770.428010"
      ]
     },
     "execution_count": 7,
     "metadata": {},
     "output_type": "execute_result"
    }
   ],
   "source": [
    "df.describe()"
   ]
  },
  {
   "cell_type": "code",
   "execution_count": 8,
   "metadata": {
    "colab": {
     "base_uri": "https://localhost:8080/"
    },
    "id": "k0McvMza646Q",
    "outputId": "b424cff7-9ac3-4d2a-a9df-f2863b9419b4"
   },
   "outputs": [
    {
     "data": {
      "text/plain": [
       "age         0\n",
       "sex         0\n",
       "bmi         0\n",
       "children    0\n",
       "smoker      0\n",
       "region      0\n",
       "charges     0\n",
       "dtype: int64"
      ]
     },
     "execution_count": 8,
     "metadata": {},
     "output_type": "execute_result"
    }
   ],
   "source": [
    "df.isnull().sum()"
   ]
  },
  {
   "cell_type": "code",
   "execution_count": 9,
   "metadata": {
    "colab": {
     "base_uri": "https://localhost:8080/",
     "height": 175
    },
    "id": "HOSlE2RI7ObZ",
    "outputId": "6e24c1a5-719b-4384-9b4b-98dbe9b4b160"
   },
   "outputs": [
    {
     "data": {
      "text/html": [
       "<div>\n",
       "<style scoped>\n",
       "    .dataframe tbody tr th:only-of-type {\n",
       "        vertical-align: middle;\n",
       "    }\n",
       "\n",
       "    .dataframe tbody tr th {\n",
       "        vertical-align: top;\n",
       "    }\n",
       "\n",
       "    .dataframe thead th {\n",
       "        text-align: right;\n",
       "    }\n",
       "</style>\n",
       "<table border=\"1\" class=\"dataframe\">\n",
       "  <thead>\n",
       "    <tr style=\"text-align: right;\">\n",
       "      <th></th>\n",
       "      <th>age</th>\n",
       "      <th>bmi</th>\n",
       "      <th>children</th>\n",
       "      <th>charges</th>\n",
       "    </tr>\n",
       "  </thead>\n",
       "  <tbody>\n",
       "    <tr>\n",
       "      <th>age</th>\n",
       "      <td>1.000000</td>\n",
       "      <td>0.109272</td>\n",
       "      <td>0.042469</td>\n",
       "      <td>0.299008</td>\n",
       "    </tr>\n",
       "    <tr>\n",
       "      <th>bmi</th>\n",
       "      <td>0.109272</td>\n",
       "      <td>1.000000</td>\n",
       "      <td>0.012759</td>\n",
       "      <td>0.198341</td>\n",
       "    </tr>\n",
       "    <tr>\n",
       "      <th>children</th>\n",
       "      <td>0.042469</td>\n",
       "      <td>0.012759</td>\n",
       "      <td>1.000000</td>\n",
       "      <td>0.067998</td>\n",
       "    </tr>\n",
       "    <tr>\n",
       "      <th>charges</th>\n",
       "      <td>0.299008</td>\n",
       "      <td>0.198341</td>\n",
       "      <td>0.067998</td>\n",
       "      <td>1.000000</td>\n",
       "    </tr>\n",
       "  </tbody>\n",
       "</table>\n",
       "</div>"
      ],
      "text/plain": [
       "               age       bmi  children   charges\n",
       "age       1.000000  0.109272  0.042469  0.299008\n",
       "bmi       0.109272  1.000000  0.012759  0.198341\n",
       "children  0.042469  0.012759  1.000000  0.067998\n",
       "charges   0.299008  0.198341  0.067998  1.000000"
      ]
     },
     "execution_count": 9,
     "metadata": {},
     "output_type": "execute_result"
    }
   ],
   "source": [
    "#correlation plot\n",
    "corr = df.corr(numeric_only = True)\n",
    "corr\n",
    "#sns.heatmap(corr, cmap = 'Wistia', annot = True)"
   ]
  },
  {
   "cell_type": "code",
   "execution_count": 10,
   "metadata": {
    "colab": {
     "base_uri": "https://localhost:8080/",
     "height": 485
    },
    "id": "Phoffdw68fIN",
    "outputId": "ef36986c-5e08-40cc-e3e0-12f152f331b5"
   },
   "outputs": [
    {
     "data": {
      "text/plain": [
       "<Axes: xlabel='charges', ylabel='Count'>"
      ]
     },
     "execution_count": 10,
     "metadata": {},
     "output_type": "execute_result"
    },
    {
     "data": {
      "image/png": "[encoded data removed]",
      "text/plain": [
       "<Figure size 800x500 with 2 Axes>"
      ]
     },
     "metadata": {},
     "output_type": "display_data"
    }
   ],
   "source": [
    "fig,(ax1,ax2) = plt.subplots(ncols = 2)\n",
    "#target column\n",
    "sns.histplot(x = 'charges',data = df,kde = True,bins = 50,ax = ax1)\n",
    "#rightskewed\n",
    "#To correct skewness in the data , we perform log transformation\n",
    "sns.histplot(np.log10(df['charges']),kde = True,bins = 50, fill = True,ax = ax2)\n"
   ]
  },
  {
   "cell_type": "markdown",
   "metadata": {
    "id": "aysaJyyOir_K"
   },
   "source": [
    "smoker vs charges and sex vs ***charges"
   ]
  },
  {
   "cell_type": "code",
   "execution_count": 11,
   "metadata": {
    "colab": {
     "base_uri": "https://localhost:8080/",
     "height": 482
    },
    "id": "F43MHlE6gAO9",
    "outputId": "c5b93009-fb12-4b15-84bc-f0b1a6532d47"
   },
   "outputs": [
    {
     "data": {
      "text/plain": [
       "<Axes: xlabel='sex', ylabel='charges'>"
      ]
     },
     "execution_count": 11,
     "metadata": {},
     "output_type": "execute_result"
    },
    {
     "data": {
      "image/png": "[encoded data removed]",
      "text/plain": [
       "<Figure size 800x500 with 2 Axes>"
      ]
     },
     "metadata": {},
     "output_type": "display_data"
    }
   ],
   "source": [
    "fig,(ax1,ax2) = plt.subplots(ncols = 2)\n",
    "sns.boxplot(x = 'smoker', y = 'charges',data = df,ax = ax1)\n",
    "sns.boxplot(x = 'sex', y = 'charges',data = df,ax = ax2)"
   ]
  },
  {
   "cell_type": "code",
   "execution_count": 12,
   "metadata": {
    "colab": {
     "base_uri": "https://localhost:8080/"
    },
    "id": "NDQM1o74mAyS",
    "outputId": "33549012-ccb3-4520-9cb7-231e324fb40f"
   },
   "outputs": [
    {
     "data": {
      "text/plain": [
       "array([0, 1, 3, 2, 5, 4], dtype=int64)"
      ]
     },
     "execution_count": 12,
     "metadata": {},
     "output_type": "execute_result"
    }
   ],
   "source": [
    "#children vs charges\n",
    "df['children'].unique()"
   ]
  },
  {
   "cell_type": "code",
   "execution_count": 13,
   "metadata": {
    "colab": {
     "base_uri": "https://localhost:8080/",
     "height": 482
    },
    "id": "nMQg-GSandNy",
    "outputId": "f9bae393-00e3-489f-f086-81bf899969ac"
   },
   "outputs": [
    {
     "data": {
      "text/plain": [
       "<Axes: xlabel='children', ylabel='charges'>"
      ]
     },
     "execution_count": 13,
     "metadata": {},
     "output_type": "execute_result"
    },
    {
     "data": {
      "image/png": "[encoded data removed]",
      "text/plain": [
       "<Figure size 800x500 with 1 Axes>"
      ]
     },
     "metadata": {},
     "output_type": "display_data"
    }
   ],
   "source": [
    "sns.boxplot(x = 'children', y = 'charges',data = df)"
   ]
  },
  {
   "cell_type": "markdown",
   "metadata": {
    "id": "cgFEITLKoMod"
   },
   "source": [
    "# Data Preprocessing - Encoding"
   ]
  },
  {
   "cell_type": "code",
   "execution_count": 14,
   "metadata": {
    "colab": {
     "base_uri": "https://localhost:8080/",
     "height": 206
    },
    "id": "E1dP-gUNn-Ru",
    "outputId": "1fbb842b-faab-477f-f80a-f71a43c46e10"
   },
   "outputs": [
    {
     "data": {
      "text/html": [
       "<div>\n",
       "<style scoped>\n",
       "    .dataframe tbody tr th:only-of-type {\n",
       "        vertical-align: middle;\n",
       "    }\n",
       "\n",
       "    .dataframe tbody tr th {\n",
       "        vertical-align: top;\n",
       "    }\n",
       "\n",
       "    .dataframe thead th {\n",
       "        text-align: right;\n",
       "    }\n",
       "</style>\n",
       "<table border=\"1\" class=\"dataframe\">\n",
       "  <thead>\n",
       "    <tr style=\"text-align: right;\">\n",
       "      <th></th>\n",
       "      <th>age</th>\n",
       "      <th>sex</th>\n",
       "      <th>bmi</th>\n",
       "      <th>children</th>\n",
       "      <th>smoker</th>\n",
       "      <th>region</th>\n",
       "      <th>charges</th>\n",
       "    </tr>\n",
       "  </thead>\n",
       "  <tbody>\n",
       "    <tr>\n",
       "      <th>0</th>\n",
       "      <td>19</td>\n",
       "      <td>female</td>\n",
       "      <td>27.900</td>\n",
       "      <td>0</td>\n",
       "      <td>yes</td>\n",
       "      <td>southwest</td>\n",
       "      <td>16884.92400</td>\n",
       "    </tr>\n",
       "    <tr>\n",
       "      <th>1</th>\n",
       "      <td>18</td>\n",
       "      <td>male</td>\n",
       "      <td>33.770</td>\n",
       "      <td>1</td>\n",
       "      <td>no</td>\n",
       "      <td>southeast</td>\n",
       "      <td>1725.55230</td>\n",
       "    </tr>\n",
       "    <tr>\n",
       "      <th>2</th>\n",
       "      <td>28</td>\n",
       "      <td>male</td>\n",
       "      <td>33.000</td>\n",
       "      <td>3</td>\n",
       "      <td>no</td>\n",
       "      <td>southeast</td>\n",
       "      <td>4449.46200</td>\n",
       "    </tr>\n",
       "    <tr>\n",
       "      <th>3</th>\n",
       "      <td>33</td>\n",
       "      <td>male</td>\n",
       "      <td>22.705</td>\n",
       "      <td>0</td>\n",
       "      <td>no</td>\n",
       "      <td>northwest</td>\n",
       "      <td>21984.47061</td>\n",
       "    </tr>\n",
       "    <tr>\n",
       "      <th>4</th>\n",
       "      <td>32</td>\n",
       "      <td>male</td>\n",
       "      <td>28.880</td>\n",
       "      <td>0</td>\n",
       "      <td>no</td>\n",
       "      <td>northwest</td>\n",
       "      <td>3866.85520</td>\n",
       "    </tr>\n",
       "  </tbody>\n",
       "</table>\n",
       "</div>"
      ],
      "text/plain": [
       "   age     sex     bmi  children smoker     region      charges\n",
       "0   19  female  27.900         0    yes  southwest  16884.92400\n",
       "1   18    male  33.770         1     no  southeast   1725.55230\n",
       "2   28    male  33.000         3     no  southeast   4449.46200\n",
       "3   33    male  22.705         0     no  northwest  21984.47061\n",
       "4   32    male  28.880         0     no  northwest   3866.85520"
      ]
     },
     "execution_count": 14,
     "metadata": {},
     "output_type": "execute_result"
    }
   ],
   "source": [
    "df.head()"
   ]
  },
  {
   "cell_type": "code",
   "execution_count": 15,
   "metadata": {
    "id": "kYJWvw2ToVid"
   },
   "outputs": [],
   "source": [
    "catagorical_columns = ['sex','children','smoker','region']\n",
    "#one hot Encodeng -- Machine learning models generally work with numerical data. One-hot encoding converts categorical variables into a binary format, representing each category with a unique binary column. This allows the model to process and understand the categorical information.\n",
    "df_encoded = pd.get_dummies(data = df,prefix = 'OHE',prefix_sep = \"_\",columns = catagorical_columns,drop_first = True,dtype = 'int8')"
   ]
  },
  {
   "cell_type": "code",
   "execution_count": 16,
   "metadata": {
    "colab": {
     "base_uri": "https://localhost:8080/",
     "height": 206
    },
    "id": "zuzth_wxqe2w",
    "outputId": "7f55eff1-784a-49b5-cf06-d12a7ce769eb"
   },
   "outputs": [
    {
     "data": {
      "text/html": [
       "<div>\n",
       "<style scoped>\n",
       "    .dataframe tbody tr th:only-of-type {\n",
       "        vertical-align: middle;\n",
       "    }\n",
       "\n",
       "    .dataframe tbody tr th {\n",
       "        vertical-align: top;\n",
       "    }\n",
       "\n",
       "    .dataframe thead th {\n",
       "        text-align: right;\n",
       "    }\n",
       "</style>\n",
       "<table border=\"1\" class=\"dataframe\">\n",
       "  <thead>\n",
       "    <tr style=\"text-align: right;\">\n",
       "      <th></th>\n",
       "      <th>age</th>\n",
       "      <th>bmi</th>\n",
       "      <th>charges</th>\n",
       "      <th>OHE_male</th>\n",
       "      <th>OHE_1</th>\n",
       "      <th>OHE_2</th>\n",
       "      <th>OHE_3</th>\n",
       "      <th>OHE_4</th>\n",
       "      <th>OHE_5</th>\n",
       "      <th>OHE_yes</th>\n",
       "      <th>OHE_northwest</th>\n",
       "      <th>OHE_southeast</th>\n",
       "      <th>OHE_southwest</th>\n",
       "    </tr>\n",
       "  </thead>\n",
       "  <tbody>\n",
       "    <tr>\n",
       "      <th>0</th>\n",
       "      <td>19</td>\n",
       "      <td>27.900</td>\n",
       "      <td>16884.92400</td>\n",
       "      <td>0</td>\n",
       "      <td>0</td>\n",
       "      <td>0</td>\n",
       "      <td>0</td>\n",
       "      <td>0</td>\n",
       "      <td>0</td>\n",
       "      <td>1</td>\n",
       "      <td>0</td>\n",
       "      <td>0</td>\n",
       "      <td>1</td>\n",
       "    </tr>\n",
       "    <tr>\n",
       "      <th>1</th>\n",
       "      <td>18</td>\n",
       "      <td>33.770</td>\n",
       "      <td>1725.55230</td>\n",
       "      <td>1</td>\n",
       "      <td>1</td>\n",
       "      <td>0</td>\n",
       "      <td>0</td>\n",
       "      <td>0</td>\n",
       "      <td>0</td>\n",
       "      <td>0</td>\n",
       "      <td>0</td>\n",
       "      <td>1</td>\n",
       "      <td>0</td>\n",
       "    </tr>\n",
       "    <tr>\n",
       "      <th>2</th>\n",
       "      <td>28</td>\n",
       "      <td>33.000</td>\n",
       "      <td>4449.46200</td>\n",
       "      <td>1</td>\n",
       "      <td>0</td>\n",
       "      <td>0</td>\n",
       "      <td>1</td>\n",
       "      <td>0</td>\n",
       "      <td>0</td>\n",
       "      <td>0</td>\n",
       "      <td>0</td>\n",
       "      <td>1</td>\n",
       "      <td>0</td>\n",
       "    </tr>\n",
       "    <tr>\n",
       "      <th>3</th>\n",
       "      <td>33</td>\n",
       "      <td>22.705</td>\n",
       "      <td>21984.47061</td>\n",
       "      <td>1</td>\n",
       "      <td>0</td>\n",
       "      <td>0</td>\n",
       "      <td>0</td>\n",
       "      <td>0</td>\n",
       "      <td>0</td>\n",
       "      <td>0</td>\n",
       "      <td>1</td>\n",
       "      <td>0</td>\n",
       "      <td>0</td>\n",
       "    </tr>\n",
       "    <tr>\n",
       "      <th>4</th>\n",
       "      <td>32</td>\n",
       "      <td>28.880</td>\n",
       "      <td>3866.85520</td>\n",
       "      <td>1</td>\n",
       "      <td>0</td>\n",
       "      <td>0</td>\n",
       "      <td>0</td>\n",
       "      <td>0</td>\n",
       "      <td>0</td>\n",
       "      <td>0</td>\n",
       "      <td>1</td>\n",
       "      <td>0</td>\n",
       "      <td>0</td>\n",
       "    </tr>\n",
       "  </tbody>\n",
       "</table>\n",
       "</div>"
      ],
      "text/plain": [
       "   age     bmi      charges  OHE_male  OHE_1  OHE_2  OHE_3  OHE_4  OHE_5  \\\n",
       "0   19  27.900  16884.92400         0      0      0      0      0      0   \n",
       "1   18  33.770   1725.55230         1      1      0      0      0      0   \n",
       "2   28  33.000   4449.46200         1      0      0      1      0      0   \n",
       "3   33  22.705  21984.47061         1      0      0      0      0      0   \n",
       "4   32  28.880   3866.85520         1      0      0      0      0      0   \n",
       "\n",
       "   OHE_yes  OHE_northwest  OHE_southeast  OHE_southwest  \n",
       "0        1              0              0              1  \n",
       "1        0              0              1              0  \n",
       "2        0              0              1              0  \n",
       "3        0              1              0              0  \n",
       "4        0              1              0              0  "
      ]
     },
     "execution_count": 16,
     "metadata": {},
     "output_type": "execute_result"
    }
   ],
   "source": [
    "df_encoded.head()"
   ]
  },
  {
   "cell_type": "code",
   "execution_count": 17,
   "metadata": {
    "colab": {
     "base_uri": "https://localhost:8080/"
    },
    "id": "oNRzrlZwrcwL",
    "outputId": "7dc4126d-8fd7-454d-bf77-ce2dfd036789"
   },
   "outputs": [
    {
     "data": {
      "text/plain": [
       "region\n",
       "southeast    364\n",
       "southwest    325\n",
       "northwest    325\n",
       "northeast    324\n",
       "Name: count, dtype: int64"
      ]
     },
     "execution_count": 17,
     "metadata": {},
     "output_type": "execute_result"
    }
   ],
   "source": [
    "df['region'].value_counts()"
   ]
  },
  {
   "cell_type": "code",
   "execution_count": 18,
   "metadata": {
    "colab": {
     "base_uri": "https://localhost:8080/"
    },
    "id": "e_NRnezAsOab",
    "outputId": "52a72f49-a3e6-4987-b08f-0ea35c8e5dfd"
   },
   "outputs": [
    {
     "data": {
      "text/plain": [
       "0       4.227499\n",
       "1       3.236928\n",
       "2       3.648308\n",
       "3       4.342116\n",
       "4       3.587358\n",
       "          ...   \n",
       "1333    4.025328\n",
       "1334    3.343602\n",
       "1335    3.212143\n",
       "1336    3.302752\n",
       "1337    4.464510\n",
       "Name: charges, Length: 1338, dtype: float64"
      ]
     },
     "execution_count": 18,
     "metadata": {},
     "output_type": "execute_result"
    }
   ],
   "source": [
    "df_encoded['charges'] = np.log10(df_encoded['charges'])\n",
    "df_encoded['charges']"
   ]
  },
  {
   "cell_type": "code",
   "execution_count": 19,
   "metadata": {
    "id": "8nSmh8MlyPm9"
   },
   "outputs": [],
   "source": [
    "X = df_encoded.drop(['charges'],axis = 1 )\n",
    "y = df_encoded['charges']"
   ]
  },
  {
   "cell_type": "code",
   "execution_count": 20,
   "metadata": {
    "id": "6J6iOD97uUD_"
   },
   "outputs": [],
   "source": [
    "X_train,X_test,y_train,y_test = train_test_split(X,y,test_size = 0.3,random_state = 23)"
   ]
  },
  {
   "cell_type": "code",
   "execution_count": 21,
   "metadata": {},
   "outputs": [],
   "source": [
    "import os\n",
    "os.environ['GIT_PYTHON_REFRESH']='quiet'\n",
    "os.environ['MLFLOW_TRACKING_URI']='file:///C:/Mlflow reg'"
   ]
  },
  {
   "cell_type": "code",
   "execution_count": 22,
   "metadata": {},
   "outputs": [],
   "source": [
    "import mlflow"
   ]
  },
  {
   "cell_type": "code",
   "execution_count": 23,
   "metadata": {},
   "outputs": [
    {
     "data": {
      "text/plain": [
       "<Experiment: artifact_location='file:///C:/Mlflow reg/811338310047614942', creation_time=1715952108638, experiment_id='811338310047614942', last_update_time=1715952108638, lifecycle_stage='active', name='Insurance', tags={}>"
      ]
     },
     "execution_count": 23,
     "metadata": {},
     "output_type": "execute_result"
    }
   ],
   "source": [
    "mlflow.set_experiment(\"Insurance\")"
   ]
  },
  {
   "cell_type": "code",
   "execution_count": 24,
   "metadata": {},
   "outputs": [
    {
     "name": "stderr",
     "output_type": "stream",
     "text": [
      "C:\\Users\\SOUMYA RANJAN DAS\\anaconda3\\Lib\\site-packages\\_distutils_hack\\__init__.py:33: UserWarning: Setuptools is replacing distutils.\n",
      "  warnings.warn(\"Setuptools is replacing distutils.\")\n"
     ]
    }
   ],
   "source": [
    "with mlflow.start_run():    \n",
    "    from sklearn.ensemble import RandomForestRegressor\n",
    "    from sklearn.ensemble import GradientBoostingRegressor\n",
    "    from sklearn.metrics import r2_score\n",
    "    \n",
    "    # model object initialization\n",
    "    RandFor=RandomForestRegressor(n_estimators=5000,max_depth=6)\n",
    "    GBM=GradientBoostingRegressor(n_estimators=3000,max_depth=6,learning_rate=0.01,min_samples_split=5)\n",
    "    rf_n_estimators=5000\n",
    "    #logging parameters\n",
    "    mlflow.log_param(\"n_estimators\",rf_n_estimators)\n",
    "    mlflow.log_param('rf_max_depth',6)\n",
    "    mlflow.log_param('gbm_n_estimators',3000)\n",
    "    mlflow.log_param('gbm_max_depth',6)\n",
    "    mlflow.log_param('gbm_learning_rate',0.01)\n",
    "    mlflow.log_param('gbm_minimum_samples_split',5)\n",
    "    \n",
    "    #training models\n",
    "    rf=RandFor.fit(X_train,y_train)\n",
    "    gbm=GBM.fit(X_train,y_train)\n",
    "    \n",
    "    #training scores\n",
    "    training_score_rf=RandFor.score(X_train,y_train)\n",
    "    training_score_gbm=GBM.score(X_train,y_train)\n",
    "    \n",
    "    #logging training score\n",
    "    mlflow.log_metric(\"rf_training_score\", training_score_rf)\n",
    "    mlflow.log_metric(\"gbm_training_score\",training_score_gbm)\n",
    "    \n",
    "    #value predictions\n",
    "    y_pred_rf=rf.predict(X_test)\n",
    "    y_pred_gbm=gbm.predict(X_test)\n",
    "    \n",
    "    #prediction evaluations\n",
    "    testing_score_rf=r2_score(y_pred_rf,y_test)\n",
    "    testing_score_gbm=r2_score(y_pred_gbm,y_test)\n",
    "    \n",
    "    #logging evaluation scores\n",
    "    mlflow.log_metric(\"rf_training_score\", testing_score_rf)\n",
    "    mlflow.log_metric(\"gbm_training_score\",testing_score_gbm)\n",
    "    \n",
    "    #logging models\n",
    "    mlflow.sklearn.log_model(rf, \"random-forest-model\")\n",
    "    mlflow.sklearn.log_model(gbm, \"gradient-boosting-model\")"
   ]
  },
  {
   "cell_type": "code",
   "execution_count": 25,
   "metadata": {},
   "outputs": [
    {
     "name": "stdout",
     "output_type": "stream",
     "text": [
      "{'predictions': [4.152087580965838, 3.7502999927237273, 4.295660150385691, 3.996739230586704, 3.6411507759410697, 3.8325005375284418, 4.654702091912902, 3.6975382430096126, 4.151829271250157, 4.675561108304874, 3.364574993499913, 4.435836859423155, 3.396753202919764, 4.153037439615225, 3.8292361261579333, 3.7389231852919993, 3.827484271165562, 3.3622927512745484, 4.64031989726615, 4.603310268124915, 4.670185021036271, 3.8286106160431204, 3.8246281982303283, 4.083934059271364, 4.64029471325803, 3.6787525550652216, 3.730421733831826, 4.575799388178378, 3.327057057425346, 3.9872603566553453, 4.142006721405866, 3.5171863926234845, 3.726660437334035, 4.21500067422051, 3.7675029334328394, 4.315753799459949, 4.090694677460784, 3.833841016488833, 4.010910729843297, 3.7716793184989212, 4.089899200647221, 4.613193173874886, 4.011615394136078, 4.422735611960229, 4.0942145438747515, 4.00745972725783, 3.7617647766573827, 3.780199746055573, 3.9852690542832416, 3.7638448343887174, 4.076280057383015, 3.8299509953867834, 4.0656104240446975, 3.6331485167394253, 3.614324398955846, 4.081281019572115, 4.0732897743053575, 3.9638987847141385, 3.9815047095428664, 4.532620842967333, 4.59919854813082, 3.700183415736932, 3.3206682050288103, 3.6690916724495, 3.5741669650526826, 3.740223469702473, 3.3405815551249143, 3.3136575779047797, 3.717343400835299, 4.227476909879829, 3.711433199168456, 4.622786871142359, 3.922799270912209, 4.2814247159471055, 3.3621490842967394, 3.706485668126786, 4.006345916892457, 3.7198989330213044, 3.540378377967899, 3.621945031046202, 4.084270793799696, 3.376571199480962, 4.580942826472022, 4.245702198678491, 3.8300240474851215, 3.8327301448743136, 4.160687550518916, 4.448570246635055, 3.3751017243808135, 4.631386789590398, 3.618951581449104, 4.083829126205939, 3.360895768562514, 3.834837694951135, 4.646727033152899, 3.565743470326173, 3.3142611219967746, 3.3538712410905704, 4.546946323075817, 3.2964613145732224, 4.143351170950504, 3.814965107827207, 3.747759991183063, 3.987587085328836, 4.152616642945934, 4.089740106821963, 3.9408274393226863, 3.343092808240978, 3.6696335412939205, 3.8168405584444227, 4.235302775937132, 3.9602723428683557, 3.66707777785284, 4.077967002709491, 3.827211253383583, 3.347004049723155, 4.675222335705217, 4.0827507946096855, 4.566034149490635, 3.379593406604199, 4.022434359491975, 3.842367783982661, 3.61270139503765, 3.8133799835213047, 3.361872758282485, 3.494629110995606, 3.6819057219278277, 4.599458745962376, 3.9651073481351653, 4.237222807331933, 4.6283607778989815, 3.3030328381295417, 4.139308181177196, 3.719221059080082, 3.783224263515399, 3.8964505049550286, 3.3631178126368533, 4.073562741064754, 3.5269512674924393, 3.3365632027699657, 4.084211990058801, 4.1619663144056975, 4.161561753796807, 4.000058403450537, 3.747484329894871, 4.090877408382671, 4.639718425991085, 3.3631856198448875, 3.335275339480512, 3.8458151242187566, 4.068373556222409, 4.043342583272828, 3.541994534664011, 4.016279071231652, 4.220670639958884, 3.3188045192347686, 3.7038182125981476, 3.9764944266910285, 3.6690941634528413, 3.5837673021467875, 3.6062466141366456, 3.9441897881321433, 3.734293768912891, 4.137108471168004, 3.755112411732714, 3.712884954346994, 4.61578868586404, 3.728928334640398, 3.3408232467370027, 3.839287463123821, 3.9434830521042152, 4.211971102830382, 3.3304160157566716, 3.3773934042170892, 3.3854518164079432, 3.9587862227505872, 4.079587657814126, 3.638126627528359, 4.090594026205691, 3.3573420419219175, 3.829362550031351, 4.076010507573216, 4.622362180712372, 3.352820715267236, 4.141703208224747, 4.151875580334658, 3.5084712452222817, 3.9301931929890923, 4.155040835461437, 4.230302173468686, 3.9384008915279045, 4.620423139924712, 4.079852928473305, 3.829071176994261, 3.8275008824696424, 4.425182450931721, 4.009301889209501, 3.984344752669017, 4.016906146529824, 4.144603401772006, 4.2371530783110805, 4.597078418848682, 3.3010928234007793, 3.3582152271197483, 3.7126433346157173, 3.6589663406951076, 4.6096574580303775, 4.155692332650785, 4.420724518751773, 4.011854214469891, 4.176503093770483, 3.678587180107247, 3.8278230652766854, 3.4777768592068337, 3.706581911028136, 4.222314743863458, 4.248040609192935, 3.875796647229167, 3.9927705864719947, 4.139709948029111, 4.157734507012094, 4.169050051263877, 3.6490196781807396, 4.291367401809087, 3.716724161328244, 4.002079294235421, 3.7234615423508775, 4.0923497370900765, 3.360945848691607, 4.178156699145792, 4.335485947029296, 4.176857541808375, 3.829929985950466, 3.6595860623162744, 3.7859560660105096, 3.9452596756282547, 3.7163236807652837, 3.595736896706128, 3.3273437052283463, 4.664355185181906, 3.6584991198282726, 3.992946816953324, 3.826217747059283, 4.157590007040923, 3.9226640159283734, 3.9753692433944825, 4.332751380360658, 3.700926098053802, 3.97913714974458, 3.8111109397839593, 3.301573794080039, 4.010468357242136, 3.3573420419219175, 3.7578198378401475, 3.832994806722954, 4.260962538428259, 4.041495980858754, 4.091304959529127, 3.7631985293406833, 4.374983775951701, 4.151957709158205, 4.656226177679463, 3.9790251594919055, 4.618986753653777, 3.831679464108189, 4.337772055820545, 4.086631826442963, 3.3205696201605934, 3.6910409393971917, 4.0702863401712746, 3.687908339828857, 3.840456300918765, 3.341186408362403, 4.150971531986733, 3.840456452335766, 3.3984032807943256, 3.9011695101785304, 3.7460521188394704, 4.295489245049303, 4.565019756960129, 3.8272166376986156, 4.093078757314153, 3.7503285957791603, 3.7175204387607788, 4.246158371432377, 3.653714284209581, 3.824608468084364, 3.562825598349342, 3.6987472841421725, 4.54765531977061, 3.995538521330576, 3.977256551676392, 4.553866547303893, 3.7106733557909015, 3.302327119686344, 3.5452001517950644, 3.7055847691495933, 3.9890936227146936, 3.341652676971683, 3.840466455171605, 3.8340726143762622, 4.034449886227398, 3.425124665553411, 4.193453707324435, 3.7545985941387348, 3.9360415573557597, 3.33506727200171, 4.118914520777617, 4.08381817113677, 4.14945066969556, 3.7384400530344437, 4.006873816277651, 4.408672367141506, 3.827189163329686, 3.326484325919292, 3.7496450094482476, 3.7884430803717115, 3.912756754521658, 4.175510141805944, 4.219231055013888, 3.9787389371358293, 4.102823169934444, 3.7857527365743358, 3.8291399280491407, 3.7602046902827206, 3.9823890336020673, 3.7150248924735902, 4.102032802414752, 4.008339229388117, 3.9292918418039116, 3.698778141222324, 4.373565121001052, 4.5403360862655004, 3.622236572372215, 4.13879366389867, 3.70367372552046, 4.5400374067674205, 3.9480873339683304, 3.952084923069579, 4.5741106563685, 3.8305721264680788, 3.3023436821584253, 3.9515238752999395, 4.012695349264514, 3.6922101969652568, 3.593255988552167, 4.553684429623657, 3.3494763702380945, 3.651361122907397, 4.021202239258196, 4.307100215879839, 3.8359564760742337, 4.161815807336746, 4.420661916938161, 4.337822170454016, 3.6164595820014505, 3.7401549640641663, 3.740345553153452, 4.155893167203846, 3.825446579115242, 3.8315527546823644, 3.7397802699824236, 3.5470139444228175, 3.831739032159133, 4.010323497032571, 3.8743142424862818, 3.677301607245268, 3.355134470826656, 3.7198767538711275, 4.666928265019807, 4.151837916552439, 4.021738263166388, 4.150341893168444, 4.0087196386447905, 4.278987856642444, 4.092894855274751, 3.566509022550934, 4.5764440043861505, 4.710896113123213, 3.94682906611294, 3.970167292634718, 4.575660741612255, 3.837569820491792, 3.826348417196753, 4.13763920555628, 3.7573362563557695, 4.006636727680666, 4.138341370967309, 4.160656785550924, 3.9142056133246887, 4.092749916902645, 4.033488148196127, 3.74734413470554, 3.354438788539852, 4.027194979985609, 4.4024737928517, 4.428248465579213, 3.6501279722811386, 3.830017005358355, 4.2468266613363745, 3.3300218806899924, 3.590570683763883]}\n"
     ]
    }
   ],
   "source": [
    "import requests\n",
    "import json\n",
    "\n",
    "#data = {\"columns\": iris.feature_names, \"data\": [[6.1, 2.8, 4.7, 1.2]]}\n",
    "data = {'dataframe_records': X_test.values.tolist()}\n",
    "headers = {\"Content-Type\": \"application/json\"}\n",
    "\n",
    "response = requests.post(\"http://localhost:8002/invocations\", data=json.dumps(data), headers=headers)\n",
    "predictions = response.json()\n",
    "\n",
    "print(predictions)"
   ]
  },
  {
   "cell_type": "code",
   "execution_count": 26,
   "metadata": {},
   "outputs": [
    {
     "data": {
      "text/plain": [
       "[4.152087580965838,\n",
       " 3.7502999927237273,\n",
       " 4.295660150385691,\n",
       " 3.996739230586704,\n",
       " 3.6411507759410697,\n",
       " 3.8325005375284418,\n",
       " 4.654702091912902,\n",
       " 3.6975382430096126,\n",
       " 4.151829271250157,\n",
       " 4.675561108304874,\n",
       " 3.364574993499913,\n",
       " 4.435836859423155,\n",
       " 3.396753202919764,\n",
       " 4.153037439615225,\n",
       " 3.8292361261579333,\n",
       " 3.7389231852919993,\n",
       " 3.827484271165562,\n",
       " 3.3622927512745484,\n",
       " 4.64031989726615,\n",
       " 4.603310268124915,\n",
       " 4.670185021036271,\n",
       " 3.8286106160431204,\n",
       " 3.8246281982303283,\n",
       " 4.083934059271364,\n",
       " 4.64029471325803,\n",
       " 3.6787525550652216,\n",
       " 3.730421733831826,\n",
       " 4.575799388178378,\n",
       " 3.327057057425346,\n",
       " 3.9872603566553453,\n",
       " 4.142006721405866,\n",
       " 3.5171863926234845,\n",
       " 3.726660437334035,\n",
       " 4.21500067422051,\n",
       " 3.7675029334328394,\n",
       " 4.315753799459949,\n",
       " 4.090694677460784,\n",
       " 3.833841016488833,\n",
       " 4.010910729843297,\n",
       " 3.7716793184989212,\n",
       " 4.089899200647221,\n",
       " 4.613193173874886,\n",
       " 4.011615394136078,\n",
       " 4.422735611960229,\n",
       " 4.0942145438747515,\n",
       " 4.00745972725783,\n",
       " 3.7617647766573827,\n",
       " 3.780199746055573,\n",
       " 3.9852690542832416,\n",
       " 3.7638448343887174,\n",
       " 4.076280057383015,\n",
       " 3.8299509953867834,\n",
       " 4.0656104240446975,\n",
       " 3.6331485167394253,\n",
       " 3.614324398955846,\n",
       " 4.081281019572115,\n",
       " 4.0732897743053575,\n",
       " 3.9638987847141385,\n",
       " 3.9815047095428664,\n",
       " 4.532620842967333,\n",
       " 4.59919854813082,\n",
       " 3.700183415736932,\n",
       " 3.3206682050288103,\n",
       " 3.6690916724495,\n",
       " 3.5741669650526826,\n",
       " 3.740223469702473,\n",
       " 3.3405815551249143,\n",
       " 3.3136575779047797,\n",
       " 3.717343400835299,\n",
       " 4.227476909879829,\n",
       " 3.711433199168456,\n",
       " 4.622786871142359,\n",
       " 3.922799270912209,\n",
       " 4.2814247159471055,\n",
       " 3.3621490842967394,\n",
       " 3.706485668126786,\n",
       " 4.006345916892457,\n",
       " 3.7198989330213044,\n",
       " 3.540378377967899,\n",
       " 3.621945031046202,\n",
       " 4.084270793799696,\n",
       " 3.376571199480962,\n",
       " 4.580942826472022,\n",
       " 4.245702198678491,\n",
       " 3.8300240474851215,\n",
       " 3.8327301448743136,\n",
       " 4.160687550518916,\n",
       " 4.448570246635055,\n",
       " 3.3751017243808135,\n",
       " 4.631386789590398,\n",
       " 3.618951581449104,\n",
       " 4.083829126205939,\n",
       " 3.360895768562514,\n",
       " 3.834837694951135,\n",
       " 4.646727033152899,\n",
       " 3.565743470326173,\n",
       " 3.3142611219967746,\n",
       " 3.3538712410905704,\n",
       " 4.546946323075817,\n",
       " 3.2964613145732224,\n",
       " 4.143351170950504,\n",
       " 3.814965107827207,\n",
       " 3.747759991183063,\n",
       " 3.987587085328836,\n",
       " 4.152616642945934,\n",
       " 4.089740106821963,\n",
       " 3.9408274393226863,\n",
       " 3.343092808240978,\n",
       " 3.6696335412939205,\n",
       " 3.8168405584444227,\n",
       " 4.235302775937132,\n",
       " 3.9602723428683557,\n",
       " 3.66707777785284,\n",
       " 4.077967002709491,\n",
       " 3.827211253383583,\n",
       " 3.347004049723155,\n",
       " 4.675222335705217,\n",
       " 4.0827507946096855,\n",
       " 4.566034149490635,\n",
       " 3.379593406604199,\n",
       " 4.022434359491975,\n",
       " 3.842367783982661,\n",
       " 3.61270139503765,\n",
       " 3.8133799835213047,\n",
       " 3.361872758282485,\n",
       " 3.494629110995606,\n",
       " 3.6819057219278277,\n",
       " 4.599458745962376,\n",
       " 3.9651073481351653,\n",
       " 4.237222807331933,\n",
       " 4.6283607778989815,\n",
       " 3.3030328381295417,\n",
       " 4.139308181177196,\n",
       " 3.719221059080082,\n",
       " 3.783224263515399,\n",
       " 3.8964505049550286,\n",
       " 3.3631178126368533,\n",
       " 4.073562741064754,\n",
       " 3.5269512674924393,\n",
       " 3.3365632027699657,\n",
       " 4.084211990058801,\n",
       " 4.1619663144056975,\n",
       " 4.161561753796807,\n",
       " 4.000058403450537,\n",
       " 3.747484329894871,\n",
       " 4.090877408382671,\n",
       " 4.639718425991085,\n",
       " 3.3631856198448875,\n",
       " 3.335275339480512,\n",
       " 3.8458151242187566,\n",
       " 4.068373556222409,\n",
       " 4.043342583272828,\n",
       " 3.541994534664011,\n",
       " 4.016279071231652,\n",
       " 4.220670639958884,\n",
       " 3.3188045192347686,\n",
       " 3.7038182125981476,\n",
       " 3.9764944266910285,\n",
       " 3.6690941634528413,\n",
       " 3.5837673021467875,\n",
       " 3.6062466141366456,\n",
       " 3.9441897881321433,\n",
       " 3.734293768912891,\n",
       " 4.137108471168004,\n",
       " 3.755112411732714,\n",
       " 3.712884954346994,\n",
       " 4.61578868586404,\n",
       " 3.728928334640398,\n",
       " 3.3408232467370027,\n",
       " 3.839287463123821,\n",
       " 3.9434830521042152,\n",
       " 4.211971102830382,\n",
       " 3.3304160157566716,\n",
       " 3.3773934042170892,\n",
       " 3.3854518164079432,\n",
       " 3.9587862227505872,\n",
       " 4.079587657814126,\n",
       " 3.638126627528359,\n",
       " 4.090594026205691,\n",
       " 3.3573420419219175,\n",
       " 3.829362550031351,\n",
       " 4.076010507573216,\n",
       " 4.622362180712372,\n",
       " 3.352820715267236,\n",
       " 4.141703208224747,\n",
       " 4.151875580334658,\n",
       " 3.5084712452222817,\n",
       " 3.9301931929890923,\n",
       " 4.155040835461437,\n",
       " 4.230302173468686,\n",
       " 3.9384008915279045,\n",
       " 4.620423139924712,\n",
       " 4.079852928473305,\n",
       " 3.829071176994261,\n",
       " 3.8275008824696424,\n",
       " 4.425182450931721,\n",
       " 4.009301889209501,\n",
       " 3.984344752669017,\n",
       " 4.016906146529824,\n",
       " 4.144603401772006,\n",
       " 4.2371530783110805,\n",
       " 4.597078418848682,\n",
       " 3.3010928234007793,\n",
       " 3.3582152271197483,\n",
       " 3.7126433346157173,\n",
       " 3.6589663406951076,\n",
       " 4.6096574580303775,\n",
       " 4.155692332650785,\n",
       " 4.420724518751773,\n",
       " 4.011854214469891,\n",
       " 4.176503093770483,\n",
       " 3.678587180107247,\n",
       " 3.8278230652766854,\n",
       " 3.4777768592068337,\n",
       " 3.706581911028136,\n",
       " 4.222314743863458,\n",
       " 4.248040609192935,\n",
       " 3.875796647229167,\n",
       " 3.9927705864719947,\n",
       " 4.139709948029111,\n",
       " 4.157734507012094,\n",
       " 4.169050051263877,\n",
       " 3.6490196781807396,\n",
       " 4.291367401809087,\n",
       " 3.716724161328244,\n",
       " 4.002079294235421,\n",
       " 3.7234615423508775,\n",
       " 4.0923497370900765,\n",
       " 3.360945848691607,\n",
       " 4.178156699145792,\n",
       " 4.335485947029296,\n",
       " 4.176857541808375,\n",
       " 3.829929985950466,\n",
       " 3.6595860623162744,\n",
       " 3.7859560660105096,\n",
       " 3.9452596756282547,\n",
       " 3.7163236807652837,\n",
       " 3.595736896706128,\n",
       " 3.3273437052283463,\n",
       " 4.664355185181906,\n",
       " 3.6584991198282726,\n",
       " 3.992946816953324,\n",
       " 3.826217747059283,\n",
       " 4.157590007040923,\n",
       " 3.9226640159283734,\n",
       " 3.9753692433944825,\n",
       " 4.332751380360658,\n",
       " 3.700926098053802,\n",
       " 3.97913714974458,\n",
       " 3.8111109397839593,\n",
       " 3.301573794080039,\n",
       " 4.010468357242136,\n",
       " 3.3573420419219175,\n",
       " 3.7578198378401475,\n",
       " 3.832994806722954,\n",
       " 4.260962538428259,\n",
       " 4.041495980858754,\n",
       " 4.091304959529127,\n",
       " 3.7631985293406833,\n",
       " 4.374983775951701,\n",
       " 4.151957709158205,\n",
       " 4.656226177679463,\n",
       " 3.9790251594919055,\n",
       " 4.618986753653777,\n",
       " 3.831679464108189,\n",
       " 4.337772055820545,\n",
       " 4.086631826442963,\n",
       " 3.3205696201605934,\n",
       " 3.6910409393971917,\n",
       " 4.0702863401712746,\n",
       " 3.687908339828857,\n",
       " 3.840456300918765,\n",
       " 3.341186408362403,\n",
       " 4.150971531986733,\n",
       " 3.840456452335766,\n",
       " 3.3984032807943256,\n",
       " 3.9011695101785304,\n",
       " 3.7460521188394704,\n",
       " 4.295489245049303,\n",
       " 4.565019756960129,\n",
       " 3.8272166376986156,\n",
       " 4.093078757314153,\n",
       " 3.7503285957791603,\n",
       " 3.7175204387607788,\n",
       " 4.246158371432377,\n",
       " 3.653714284209581,\n",
       " 3.824608468084364,\n",
       " 3.562825598349342,\n",
       " 3.6987472841421725,\n",
       " 4.54765531977061,\n",
       " 3.995538521330576,\n",
       " 3.977256551676392,\n",
       " 4.553866547303893,\n",
       " 3.7106733557909015,\n",
       " 3.302327119686344,\n",
       " 3.5452001517950644,\n",
       " 3.7055847691495933,\n",
       " 3.9890936227146936,\n",
       " 3.341652676971683,\n",
       " 3.840466455171605,\n",
       " 3.8340726143762622,\n",
       " 4.034449886227398,\n",
       " 3.425124665553411,\n",
       " 4.193453707324435,\n",
       " 3.7545985941387348,\n",
       " 3.9360415573557597,\n",
       " 3.33506727200171,\n",
       " 4.118914520777617,\n",
       " 4.08381817113677,\n",
       " 4.14945066969556,\n",
       " 3.7384400530344437,\n",
       " 4.006873816277651,\n",
       " 4.408672367141506,\n",
       " 3.827189163329686,\n",
       " 3.326484325919292,\n",
       " 3.7496450094482476,\n",
       " 3.7884430803717115,\n",
       " 3.912756754521658,\n",
       " 4.175510141805944,\n",
       " 4.219231055013888,\n",
       " 3.9787389371358293,\n",
       " 4.102823169934444,\n",
       " 3.7857527365743358,\n",
       " 3.8291399280491407,\n",
       " 3.7602046902827206,\n",
       " 3.9823890336020673,\n",
       " 3.7150248924735902,\n",
       " 4.102032802414752,\n",
       " 4.008339229388117,\n",
       " 3.9292918418039116,\n",
       " 3.698778141222324,\n",
       " 4.373565121001052,\n",
       " 4.5403360862655004,\n",
       " 3.622236572372215,\n",
       " 4.13879366389867,\n",
       " 3.70367372552046,\n",
       " 4.5400374067674205,\n",
       " 3.9480873339683304,\n",
       " 3.952084923069579,\n",
       " 4.5741106563685,\n",
       " 3.8305721264680788,\n",
       " 3.3023436821584253,\n",
       " 3.9515238752999395,\n",
       " 4.012695349264514,\n",
       " 3.6922101969652568,\n",
       " 3.593255988552167,\n",
       " 4.553684429623657,\n",
       " 3.3494763702380945,\n",
       " 3.651361122907397,\n",
       " 4.021202239258196,\n",
       " 4.307100215879839,\n",
       " 3.8359564760742337,\n",
       " 4.161815807336746,\n",
       " 4.420661916938161,\n",
       " 4.337822170454016,\n",
       " 3.6164595820014505,\n",
       " 3.7401549640641663,\n",
       " 3.740345553153452,\n",
       " 4.155893167203846,\n",
       " 3.825446579115242,\n",
       " 3.8315527546823644,\n",
       " 3.7397802699824236,\n",
       " 3.5470139444228175,\n",
       " 3.831739032159133,\n",
       " 4.010323497032571,\n",
       " 3.8743142424862818,\n",
       " 3.677301607245268,\n",
       " 3.355134470826656,\n",
       " 3.7198767538711275,\n",
       " 4.666928265019807,\n",
       " 4.151837916552439,\n",
       " 4.021738263166388,\n",
       " 4.150341893168444,\n",
       " 4.0087196386447905,\n",
       " 4.278987856642444,\n",
       " 4.092894855274751,\n",
       " 3.566509022550934,\n",
       " 4.5764440043861505,\n",
       " 4.710896113123213,\n",
       " 3.94682906611294,\n",
       " 3.970167292634718,\n",
       " 4.575660741612255,\n",
       " 3.837569820491792,\n",
       " 3.826348417196753,\n",
       " 4.13763920555628,\n",
       " 3.7573362563557695,\n",
       " 4.006636727680666,\n",
       " 4.138341370967309,\n",
       " 4.160656785550924,\n",
       " 3.9142056133246887,\n",
       " 4.092749916902645,\n",
       " 4.033488148196127,\n",
       " 3.74734413470554,\n",
       " 3.354438788539852,\n",
       " 4.027194979985609,\n",
       " 4.4024737928517,\n",
       " 4.428248465579213,\n",
       " 3.6501279722811386,\n",
       " 3.830017005358355,\n",
       " 4.2468266613363745,\n",
       " 3.3300218806899924,\n",
       " 3.590570683763883]"
      ]
     },
     "execution_count": 26,
     "metadata": {},
     "output_type": "execute_result"
    }
   ],
   "source": [
    "predictions[\"predictions\"]"
   ]
  },
  {
   "cell_type": "code",
   "execution_count": null,
   "metadata": {},
   "outputs": [],
   "source": []
  },
  {
   "cell_type": "code",
   "execution_count": null,
   "metadata": {},
   "outputs": [],
   "source": []
  }
 ],
 "metadata": {
  "colab": {
   "provenance": []
  },
  "kernelspec": {
   "display_name": "Python 3 (ipykernel)",
   "language": "python",
   "name": "python3"
  },
  "language_info": {
   "codemirror_mode": {
    "name": "ipython",
    "version": 3
   },
   "file_extension": ".py",
   "mimetype": "text/x-python",
   "name": "python",
   "nbconvert_exporter": "python",
   "pygments_lexer": "ipython3",
   "version": "3.11.5"
  }
 },
 "nbformat": 4,
 "nbformat_minor": 1
}
