{
 "cells": [
  {
   "cell_type": "code",
   "execution_count": 1,
   "id": "f81df8ab-95c9-4746-bea0-14a0c8d6486a",
   "metadata": {},
   "outputs": [],
   "source": [
    "import os\n",
    "os.environ['GIT_PYTHON_REFRESH']='quiet'\n",
    "os.environ['MLFLOW_TRACKING_URI']='file:///D:\\Mlflw_Loan1'"
   ]
  },
  {
   "cell_type": "code",
   "execution_count": 2,
   "id": "fedd7b14-0d1f-4b17-be6e-7b3700d108bb",
   "metadata": {},
   "outputs": [
    {
     "name": "stdout",
     "output_type": "stream",
     "text": [
      "                             run_id       experiment_id    status  \\\n",
      "0  5a41ec83bfa947ddac898e660aac4aca  107929506911038166  FINISHED   \n",
      "1  2ba1bec7f4204c5b874e36c77ae9d3c0  107929506911038166  FINISHED   \n",
      "2  fc4b58e258fb433991650bb3420dd811  107929506911038166   RUNNING   \n",
      "\n",
      "                                        artifact_uri  \\\n",
      "0  file:///D:\\Mlflw_Loan1/107929506911038166/5a41...   \n",
      "1  file:///D:\\Mlflw_Loan1/107929506911038166/2ba1...   \n",
      "2  file:///D:\\Mlflw_Loan1/107929506911038166/fc4b...   \n",
      "\n",
      "                        start_time                         end_time  \\\n",
      "0 2024-05-24 04:43:10.346000+00:00 2024-05-24 05:18:14.908000+00:00   \n",
      "1 2024-05-23 10:50:21.550000+00:00 2024-05-23 11:30:55.263000+00:00   \n",
      "2 2024-05-23 06:39:56.298000+00:00                              NaT   \n",
      "\n",
      "   metrics.rf_training_score  metrics.rf_testing_score  \\\n",
      "0                   0.877092                  0.877116   \n",
      "1                   0.877092                  0.877116   \n",
      "2                        NaN                       NaN   \n",
      "\n",
      "   metrics.gbm_training_score  metrics.gbm_testing_score  ...  \\\n",
      "0                    0.893294                   0.887460  ...   \n",
      "1                    0.893639                   0.887963  ...   \n",
      "2                         NaN                        NaN  ...   \n",
      "\n",
      "  params.gbm_minimum_samples_split params.gbm_max_depth  \\\n",
      "0                                5                    6   \n",
      "1                                5                    6   \n",
      "2                                5                    6   \n",
      "\n",
      "  params.gbm_n_estimators                      tags.mlflow.log-model.history  \\\n",
      "0                    3000  [{\"run_id\": \"5a41ec83bfa947ddac898e660aac4aca\"...   \n",
      "1                    3000  [{\"run_id\": \"2ba1bec7f4204c5b874e36c77ae9d3c0\"...   \n",
      "2                    3000                                               None   \n",
      "\n",
      "                             tags.mlflow.source.name tags.feature_set_version  \\\n",
      "0  C:\\Users\\SOUMYA RANJAN DAS\\anaconda3\\Lib\\site-...             loan default   \n",
      "1  C:\\Users\\SOUMYA RANJAN DAS\\anaconda3\\Lib\\site-...             loan default   \n",
      "2  C:\\Users\\SOUMYA RANJAN DAS\\anaconda3\\Lib\\site-...                     None   \n",
      "\n",
      "  tags.iteration_name tags.mlflow.source.type   tags.mlflow.user  \\\n",
      "0  test_rf_gb_sklearn                   LOCAL  SOUMYA RANJAN DAS   \n",
      "1  test_rf_gb_sklearn                   LOCAL  SOUMYA RANJAN DAS   \n",
      "2                None                   LOCAL  SOUMYA RANJAN DAS   \n",
      "\n",
      "  tags.mlflow.runName  \n",
      "0      useful-ray-189  \n",
      "1  charming-squid-924  \n",
      "2      useful-rat-664  \n",
      "\n",
      "[3 rows x 23 columns]\n"
     ]
    }
   ],
   "source": [
    "import mlflow\n",
    "\n",
    "all_runs = mlflow.search_runs(search_all_experiments=True)\n",
    "print(all_runs)"
   ]
  },
  {
   "cell_type": "code",
   "execution_count": null,
   "id": "fd2df1c1-ee44-4dd9-be30-66d42ece55f9",
   "metadata": {},
   "outputs": [],
   "source": [
    "!mlflow models serve -p 8002 -m runs:/5a41ec83bfa947ddac898e660aac4aca/random-forest-model  --no-conda"
   ]
  },
  {
   "cell_type": "code",
   "execution_count": null,
   "id": "97e67295-a29d-4e9c-8baf-20acb2ba062b",
   "metadata": {},
   "outputs": [],
   "source": []
  }
 ],
 "metadata": {
  "kernelspec": {
   "display_name": "Python 3 (ipykernel)",
   "language": "python",
   "name": "python3"
  },
  "language_info": {
   "codemirror_mode": {
    "name": "ipython",
    "version": 3
   },
   "file_extension": ".py",
   "mimetype": "text/x-python",
   "name": "python",
   "nbconvert_exporter": "python",
   "pygments_lexer": "ipython3",
   "version": "3.11.5"
  }
 },
 "nbformat": 4,
 "nbformat_minor": 5
}
